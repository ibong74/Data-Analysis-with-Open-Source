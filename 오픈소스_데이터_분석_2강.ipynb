{
  "cells": [
    {
      "cell_type": "markdown",
      "metadata": {
        "id": "view-in-github",
        "colab_type": "text"
      },
      "source": [
        "<a href=\"https://colab.research.google.com/github/ibong74/Data-Analysis-with-Open-Source/blob/main/%EC%98%A4%ED%94%88%EC%86%8C%EC%8A%A4_%EB%8D%B0%EC%9D%B4%ED%84%B0_%EB%B6%84%EC%84%9D_2%EA%B0%95.ipynb\" target=\"_parent\"><img src=\"https://colab.research.google.com/assets/colab-badge.svg\" alt=\"Open In Colab\"/></a>"
      ]
    },
    {
      "cell_type": "markdown",
      "metadata": {
        "id": "DkPKaAsoRq5Q"
      },
      "source": [
        "\n",
        "\n",
        "# 오픈소스 기반 데이터 분석 2강 - 데이터 분석을 위한 파이썬 1\n"
      ]
    },
    {
      "cell_type": "markdown",
      "metadata": {
        "id": "-I7BVVlnRrB0"
      },
      "source": [
        "## 2-1 리스트 슬라이싱"
      ]
    },
    {
      "cell_type": "code",
      "execution_count": 6,
      "metadata": {
        "id": "2Y2HEiaiRwAI",
        "outputId": "aa7cc3d1-0f97-4e7f-ac2a-338ae5df3fc6",
        "colab": {
          "base_uri": "https://localhost:8080/"
        }
      },
      "outputs": [
        {
          "output_type": "stream",
          "name": "stdout",
          "text": [
            "[10, 20, 30, 40]\n",
            "[10, 20, 30, 40]\n",
            "[50, 60, 70]\n",
            "[50, 60, 70]\n"
          ]
        }
      ],
      "source": [
        "numbers = [10, 20, 30, 40, 50, 60, 70]\n",
        "# 첫 4개의 원소 출력\n",
        "first_four = numbers[0:4]\n",
        "print(first_four)\n",
        "first_four_2 = numbers[:4]\n",
        "print(first_four_2)\n",
        "# 뒤 3개의 원소를 출력\n",
        "last_three = numbers[-3:7]\n",
        "print(last_three)\n",
        "last_three_2 = numbers[-3:]\n",
        "print(last_three_2)"
      ]
    },
    {
      "cell_type": "code",
      "execution_count": 7,
      "metadata": {
        "id": "IO8bsKekR0W_",
        "outputId": "3d52c13d-41fb-4d3d-f111-0c085264e6a3",
        "colab": {
          "base_uri": "https://localhost:8080/"
        }
      },
      "outputs": [
        {
          "output_type": "stream",
          "name": "stdout",
          "text": [
            "[10, 30, 50, 70]\n",
            "[70, 60, 50, 40, 30, 20, 10]\n"
          ]
        }
      ],
      "source": [
        "numbers = [10, 20, 30, 40, 50, 60, 70]\n",
        "\n",
        "# 홀수번째 항목 출력\n",
        "every_other_list = numbers[::2]\n",
        "print(every_other_list)\n",
        "\n",
        "# 역순 출력\n",
        "reverse_list = numbers[::-1]\n",
        "print(reverse_list)"
      ]
    },
    {
      "cell_type": "code",
      "execution_count": 9,
      "metadata": {
        "id": "60qOf7uxVdAg",
        "outputId": "6794fdfb-bd19-45f7-b20a-18670e1cfac2",
        "colab": {
          "base_uri": "https://localhost:8080/"
        }
      },
      "outputs": [
        {
          "output_type": "stream",
          "name": "stdout",
          "text": [
            "[[1, 2, 3, 4], [5, 6, 7, 8]]\n",
            "[[1, 2], [5, 6], [9, 10], [13, 14]]\n",
            "[[3, 4], [7, 8], [11, 12], [15, 16]]\n"
          ]
        }
      ],
      "source": [
        "matrix = [\n",
        "    [1, 2, 3, 4],\n",
        "    [5, 6, 7, 8],\n",
        "    [9, 10, 11, 12],\n",
        "    [13, 14, 15, 16]\n",
        "]\n",
        "\n",
        "# 첫 두 행 출력\n",
        "first_two_rows = matrix[0:2]\n",
        "print(first_two_rows)\n",
        "\n",
        "# 첫 두 열 출력\n",
        "first_two_columns = [ row[0:2] for row in matrix]\n",
        "print(first_two_columns)\n",
        "last_two_columns = [row[2:4] for row in matrix]\n",
        "print(last_two_columns)"
      ]
    },
    {
      "cell_type": "markdown",
      "metadata": {
        "id": "eOMufu5SXiAU"
      },
      "source": [
        "## 2-2 리스트 컴프리헨션"
      ]
    },
    {
      "cell_type": "code",
      "execution_count": 13,
      "metadata": {
        "id": "JpmgdsW9V0CY",
        "outputId": "613c49e6-33a0-4058-b313-0c6cb8b83ad7",
        "colab": {
          "base_uri": "https://localhost:8080/"
        }
      },
      "outputs": [
        {
          "output_type": "stream",
          "name": "stdout",
          "text": [
            "[0, 1, 2, 3, 4]\n",
            "[0, 1, 2, 3, 4, 5, 6, 7, 8, 9]\n"
          ]
        }
      ],
      "source": [
        "numbers = [ ]\n",
        "# 0 ~ 4 포함 리스트 생성\n",
        "for i in range(5):\n",
        "    numbers.append(i)\n",
        "print(numbers)\n",
        "\n",
        "# 0 - 9 포함 리스트 생성 (리스트 컴프리헨션을 적용)\n",
        "numbers2 = [i for i in range(10)]\n",
        "print(numbers2)"
      ]
    },
    {
      "cell_type": "code",
      "execution_count": 15,
      "metadata": {
        "id": "cRC8x3_iW0im",
        "outputId": "bb2ab46d-7d8f-41d8-c623-c2ea76d5987f",
        "colab": {
          "base_uri": "https://localhost:8080/"
        }
      },
      "outputs": [
        {
          "output_type": "stream",
          "name": "stdout",
          "text": [
            "[1, 4, 9, 16, 25]\n",
            "[1, 4, 9, 16, 25]\n"
          ]
        }
      ],
      "source": [
        "numbers = [1, 2, 3, 4, 5]\n",
        "squares = [ ]\n",
        "\n",
        "# numbers의 모든 항목의 값을 제곱한 리스트\n",
        "for num in numbers:\n",
        "  squares.append(num ** 2)\n",
        "\n",
        "print(squares)\n",
        "\n",
        "\n",
        "# 컴프리헨션을 이용한 제곱 리스트\n",
        "squares2 = [num ** 2 for num in numbers]\n",
        "print(squares2)"
      ]
    },
    {
      "cell_type": "code",
      "execution_count": 16,
      "metadata": {
        "id": "MAvimjk6Fqlc",
        "outputId": "a91434da-82c5-4a61-d80f-772bd8fe97dc",
        "colab": {
          "base_uri": "https://localhost:8080/"
        }
      },
      "outputs": [
        {
          "output_type": "stream",
          "name": "stdout",
          "text": [
            "[2, 4, 6, 8, 10]\n",
            "[2, 4, 6, 8, 10]\n"
          ]
        }
      ],
      "source": [
        "numbers = [1, 2, 3, 4, 5, 6, 7, 8, 9, 10]\n",
        "even_numbers = [ ]\n",
        "\n",
        "# 짝수만 추출한 리스트\n",
        "for num in numbers:\n",
        "    if num % 2 == 0:\n",
        "        even_numbers.append(num)\n",
        "\n",
        "print(even_numbers)\n",
        "\n",
        "\n",
        "# 컴프리헨션을 이용한 짝수 리스트\n",
        "even_numbers2 = [num for num in numbers if num % 2 == 0]\n",
        "print(even_numbers2)"
      ]
    },
    {
      "cell_type": "code",
      "execution_count": 18,
      "metadata": {
        "id": "HGO8XTxBFqld",
        "outputId": "61ed5568-393b-4743-f9fc-59c3d5979c7f",
        "colab": {
          "base_uri": "https://localhost:8080/"
        }
      },
      "outputs": [
        {
          "output_type": "stream",
          "name": "stdout",
          "text": [
            "[('사과', '주스'), ('사과', '잼'), ('사과', '통조림'), ('복숭아', '주스'), ('복숭아', '잼'), ('복숭아', '통조림'), ('바나나', '주스'), ('바나나', '잼'), ('바나나', '통조림')]\n",
            "[('사과', '주스'), ('사과', '잼'), ('사과', '통조림'), ('복숭아', '주스'), ('복숭아', '잼'), ('복숭아', '통조림'), ('바나나', '주스'), ('바나나', '잼'), ('바나나', '통조림')]\n"
          ]
        }
      ],
      "source": [
        "list1 = ['사과', '복숭아', '바나나']\n",
        "list2 = ['주스', '잼', '통조림']\n",
        "pairs = [ ]\n",
        "\n",
        "# 두 리스트에 포함되 모든 원소를 조합한 투플의 리스트 생성\n",
        "for fruit in list1:\n",
        "    for product in list2:\n",
        "        pairs.append((fruit, product))\n",
        "\n",
        "print(pairs)\n",
        "\n",
        "# 컴프리헨션을 이용한 투플 리스트 생성\n",
        "pairs2 = [(fruit2, product2) for fruit2 in list1 for product2 in list2]\n",
        "print(pairs2)"
      ]
    },
    {
      "cell_type": "code",
      "execution_count": 21,
      "metadata": {
        "id": "K-BPhFTUFqle",
        "outputId": "79a5baa7-a20c-4faa-d81d-95f44e84c1a5",
        "colab": {
          "base_uri": "https://localhost:8080/"
        }
      },
      "outputs": [
        {
          "output_type": "stream",
          "name": "stdout",
          "text": [
            "{0: 0, 1: 1, 2: 4, 3: 9, 4: 16}\n",
            "{0: 0, 1: 1, 2: 4, 3: 9, 4: 16, 5: 25, 6: 36, 7: 49, 8: 64, 9: 81}\n"
          ]
        }
      ],
      "source": [
        "squares = { }\n",
        "\n",
        "# 딕셔너리 생성\n",
        "for i in range(5):\n",
        "    squares[i] = i ** 2\n",
        "\n",
        "print(squares)\n",
        "\n",
        "squares2 = {i:i**2 for i in range(10)}\n",
        "print(squares2)"
      ]
    },
    {
      "cell_type": "code",
      "execution_count": 27,
      "metadata": {
        "id": "UoTcC8-GFqlf",
        "outputId": "61c8530a-39e3-45d8-9780-ab7394e5d1f2",
        "colab": {
          "base_uri": "https://localhost:8080/"
        }
      },
      "outputs": [
        {
          "output_type": "stream",
          "name": "stdout",
          "text": [
            "전체 리스트 출력\n",
            "{'서울': 957, '부산': 339, '인천': 294, '대구': 242, '광주': 145, '대전': 147, '울산': 114, '세종': 36, '수원': 115, '창원': 103, '고양': 105, '용인': 108, '성남': 94}\n",
            "인구 200만명 이상의 도시 리스트\n",
            "{'서울': 957, '부산': 339, '인천': 294, '대구': 242}\n",
            "도시 이름에 '산'이 포함된 도시 리스트\n",
            "{'부산': 339, '울산': 114}\n",
            "인구 300만 이상 및 이름에 '산'이 포함된 도시 리스트\n",
            "{'부산': 339}\n"
          ]
        }
      ],
      "source": [
        "city_population = {\n",
        "    '서울': 957, '부산': 339, '인천': 294, '대구': 242, '광주': 145, '대전': 147,\n",
        "    '울산': 114, '세종': 36, '수원': 115, '창원': 103, '고양': 105, '용인': 108, '성남': 94\n",
        "}\n",
        "\n",
        "# 전체 리스트 출력\n",
        "all_cities = {city:pop for city, pop in city_population.items()}\n",
        "print(\"전체 리스트 출력\")\n",
        "print(all_cities)\n",
        "\n",
        "# 인구 200만명 이상의 도시 리스트\n",
        "large_cities = {city:pop for city, pop in city_population.items() if pop >= 200}\n",
        "print(\"인구 200만명 이상의 도시 리스트\")\n",
        "print(large_cities)\n",
        "\n",
        "# 도시 이름에 '산'이 포함된 도시 리스트\n",
        "san_name_cities = {city:pop for city, pop in city_population.items() if '산' in city}\n",
        "print(\"도시 이름에 '산'이 포함된 도시 리스트\")\n",
        "print(san_name_cities)\n",
        "\n",
        "# 인구 300만 이상 및 이름에 '산'이 포함된 도시 리스트\n",
        "large_short_name_cities = {city:pop for city, pop in city_population.items() if pop >= 300 and '산' in city}\n",
        "print(\"인구 300만 이상 및 이름에 '산'이 포함된 도시 리스트\")\n",
        "print(large_short_name_cities)"
      ]
    },
    {
      "cell_type": "markdown",
      "metadata": {
        "id": "njDOfr1LFqlf"
      },
      "source": [
        "## 2-3 문자열 형식화"
      ]
    },
    {
      "cell_type": "code",
      "execution_count": 29,
      "metadata": {
        "id": "fzO0h6KfFqlg",
        "outputId": "7df3d8cd-3bb2-4c96-cfff-de459a2738ad",
        "colab": {
          "base_uri": "https://localhost:8080/"
        }
      },
      "outputs": [
        {
          "output_type": "stream",
          "name": "stdout",
          "text": [
            "C 스타일 문자열 포매팅\n",
            "이름 : 홍길동, 나이: 30, 급여:3500000원\n",
            "index 스타일\n",
            "이름:홍길동, 나이:30, 급여:3500000원\n",
            "이름:홍길동, 나이:30, 급여:3500000원\n",
            "f 스타일\n",
            "이름:홍길동, 나이:30, 급여:3500000원\n"
          ]
        }
      ],
      "source": [
        "name = '홍길동'\n",
        "age = 30\n",
        "salary = 3500000\n",
        "tax_rate = 0.1\n",
        "\n",
        "# C 스타일 문자열 포매팅\n",
        "# 이름, 나이, 월급 출력\n",
        "print(\"C 스타일 문자열 포매팅\")\n",
        "basic_format = '이름 : %s, 나이: %d, 급여:%d원' %(name, age, salary)\n",
        "print(basic_format)\n",
        "\n",
        "# 직원이름, 나이, 세후 월급 출력\n",
        "print(\"index 스타일\")\n",
        "index_format = '이름:{0}, 나이:{1}, 급여:{2}원'.format(name, age, salary)\n",
        "print(index_format)\n",
        "index_format2 = '이름:{}, 나이:{}, 급여:{}원'.format(name, age, salary)\n",
        "print(index_format2)\n",
        "\n",
        "\n",
        "# 직원이름, 나이, 월급, 세금, 실수령액 추력\n",
        "print(\"f 스타일\")\n",
        "keyword_format = f'이름:{name}, 나이:{age}, 급여:{salary}원'\n",
        "print(keyword_format)\n",
        "\n",
        "\n"
      ]
    },
    {
      "cell_type": "code",
      "source": [
        "name = '홍길동'\n",
        "age = 30\n",
        "salary = 3500000\n",
        "tax_rate = 0.1\n",
        "\n",
        "# str.format 문자열 포매팅\n",
        "\n"
      ],
      "metadata": {
        "id": "cIvmmcQux_ph",
        "outputId": "22604080-a448-4459-9f43-1db0cf9c0e51",
        "colab": {
          "base_uri": "https://localhost:8080/"
        }
      },
      "execution_count": 30,
      "outputs": [
        {
          "output_type": "stream",
          "name": "stdout",
          "text": [
            "이름:홍길동, 나이:30, 급여:3500000원\n",
            "직원이름:홍길동, 나이:30, 세후 월급 출력:3150000.0원\n",
            "직원이름:홍길동, 나이:30, 급여:3500000원, 세금:350000.0원,세후 월급 출력:3150000.0원\n"
          ]
        }
      ]
    },
    {
      "cell_type": "code",
      "source": [
        "name = '홍길동'\n",
        "age = 30\n",
        "salary = 3500000\n",
        "tax_rate = 0.1\n",
        "\n",
        "# f-문자열 포매팅\n",
        "# 이름, 나이, 월급 출력\n",
        "print(f'이름:{name}, 나이:{age}, 급여:{salary}원')\n",
        "\n",
        "# 직원이름, 나이, 세후 월급 출력\n",
        "print(f'직원이름:{name}, 나이:{age}, 세후 월급 출력:{salary - salary*tax_rate}원')\n",
        "\n",
        "# 직원이름, 나이, 월급, 세금, 실수령액 추력\n",
        "print(f'직원이름:{name}, 나이:{age}, 급여:{salary}원, 세금:{salary*tax_rate}원,세후 월급 출력:{salary - salary*tax_rate}원')"
      ],
      "metadata": {
        "id": "EIO3z-XQx_ce",
        "outputId": "2ef12867-a302-4094-b123-72981762789b",
        "colab": {
          "base_uri": "https://localhost:8080/"
        }
      },
      "execution_count": 31,
      "outputs": [
        {
          "output_type": "stream",
          "name": "stdout",
          "text": [
            "이름:홍길동, 나이:30, 급여:3500000원\n",
            "직원이름:홍길동, 나이:30, 세후 월급 출력:3150000.0원\n",
            "직원이름:홍길동, 나이:30, 급여:3500000원, 세금:350000.0원,세후 월급 출력:3150000.0원\n"
          ]
        }
      ]
    },
    {
      "cell_type": "markdown",
      "metadata": {
        "id": "6lnhCleJFqlg"
      },
      "source": [
        "## 2-4 컨텍스트 관리"
      ]
    },
    {
      "cell_type": "code",
      "execution_count": 33,
      "metadata": {
        "id": "eFpmQp3QFqlh"
      },
      "outputs": [],
      "source": [
        "# 파일 오픈 & 클로즈\n",
        "file = open('output.txt', 'w')\n",
        "file.write('Hello, world!\\n')\n",
        "file.close()\n",
        "\n",
        "with open('output2.txt', 'w') as file_object:\n",
        "    file_object.write('예수 그리스도!!!!\\n')\n",
        "\n"
      ]
    },
    {
      "cell_type": "code",
      "execution_count": null,
      "metadata": {
        "id": "D0aOLti0Fqlh"
      },
      "outputs": [],
      "source": [
        "# 복수개의 파일(읽기 & 쓰기) 관리\n",
        "\n"
      ]
    },
    {
      "cell_type": "code",
      "execution_count": null,
      "metadata": {
        "id": "6SE0rrD5Fqli"
      },
      "outputs": [],
      "source": [
        "import urllib.request\n",
        "\n",
        "# URL 연결 관리\n",
        "('https://raw.githubusercontent.com/jaehwachung/Data-Analysis-with-Open-Source/refs/heads/main/Chapter%203/students.csv')\n",
        "    data = response.read( ).decode('utf-8')\n",
        "\n",
        "print(data)"
      ]
    }
  ],
  "metadata": {
    "colab": {
      "provenance": [],
      "include_colab_link": true
    },
    "kernelspec": {
      "display_name": "Python 3",
      "name": "python3"
    },
    "language_info": {
      "name": "python"
    }
  },
  "nbformat": 4,
  "nbformat_minor": 0
}